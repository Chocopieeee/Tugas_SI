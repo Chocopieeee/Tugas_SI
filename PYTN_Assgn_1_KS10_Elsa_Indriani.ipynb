{
  "cells": [
    {
      "cell_type": "markdown",
      "metadata": {
        "id": "view-in-github",
        "colab_type": "text"
      },
      "source": [
        "<a href=\"https://colab.research.google.com/github/Chocopieeee/Tugas_SI/blob/main/PYTN_Assgn_1_KS10_Elsa_Indriani.ipynb\" target=\"_parent\"><img src=\"https://colab.research.google.com/assets/colab-badge.svg\" alt=\"Open In Colab\"/></a>"
      ]
    },
    {
      "cell_type": "markdown",
      "metadata": {
        "id": "Ju_DL4kRSLp3"
      },
      "source": [
        "### Library pandas dan numpy digunakan untuk visualisasi data dan matplotlib digunakan untuk ploting data"
      ]
    },
    {
      "cell_type": "code",
      "execution_count": null,
      "metadata": {
        "id": "AzFzo_49SLqA"
      },
      "outputs": [],
      "source": [
        "import numpy as np\n",
        "import pandas as pd"
      ]
    },
    {
      "cell_type": "code",
      "execution_count": null,
      "metadata": {
        "id": "OUln1DN4SLrH"
      },
      "outputs": [],
      "source": [
        "import matplotlib as mpl\n",
        "import matplotlib.pyplot as plt"
      ]
    },
    {
      "cell_type": "markdown",
      "metadata": {
        "id": "r3uvV5DZSLrJ"
      },
      "source": [
        "### Membaca file csv dengan memanfaatkan library pandas, head digunakan untuk menampilkan 5 baris data teratas"
      ]
    },
    {
      "cell_type": "code",
      "execution_count": null,
      "metadata": {
        "id": "easB8mkOSLrK",
        "outputId": "6efb9194-02e3-44b4-c17f-7a63d1a3caa2"
      },
      "outputs": [
        {
          "data": {
            "text/html": [
              "<div>\n",
              "<style scoped>\n",
              "    .dataframe tbody tr th:only-of-type {\n",
              "        vertical-align: middle;\n",
              "    }\n",
              "\n",
              "    .dataframe tbody tr th {\n",
              "        vertical-align: top;\n",
              "    }\n",
              "\n",
              "    .dataframe thead th {\n",
              "        text-align: right;\n",
              "    }\n",
              "</style>\n",
              "<table border=\"1\" class=\"dataframe\">\n",
              "  <thead>\n",
              "    <tr style=\"text-align: right;\">\n",
              "      <th></th>\n",
              "      <th>lsoa_code</th>\n",
              "      <th>borough</th>\n",
              "      <th>major_category</th>\n",
              "      <th>minor_category</th>\n",
              "      <th>value</th>\n",
              "      <th>year</th>\n",
              "      <th>month</th>\n",
              "    </tr>\n",
              "  </thead>\n",
              "  <tbody>\n",
              "    <tr>\n",
              "      <th>0</th>\n",
              "      <td>E01001116</td>\n",
              "      <td>Croydon</td>\n",
              "      <td>Burglary</td>\n",
              "      <td>Burglary in Other Buildings</td>\n",
              "      <td>0</td>\n",
              "      <td>2016</td>\n",
              "      <td>11</td>\n",
              "    </tr>\n",
              "    <tr>\n",
              "      <th>1</th>\n",
              "      <td>E01001646</td>\n",
              "      <td>Greenwich</td>\n",
              "      <td>Violence Against the Person</td>\n",
              "      <td>Other violence</td>\n",
              "      <td>0</td>\n",
              "      <td>2016</td>\n",
              "      <td>11</td>\n",
              "    </tr>\n",
              "    <tr>\n",
              "      <th>2</th>\n",
              "      <td>E01000677</td>\n",
              "      <td>Bromley</td>\n",
              "      <td>Violence Against the Person</td>\n",
              "      <td>Other violence</td>\n",
              "      <td>0</td>\n",
              "      <td>2015</td>\n",
              "      <td>5</td>\n",
              "    </tr>\n",
              "    <tr>\n",
              "      <th>3</th>\n",
              "      <td>E01003774</td>\n",
              "      <td>Redbridge</td>\n",
              "      <td>Burglary</td>\n",
              "      <td>Burglary in Other Buildings</td>\n",
              "      <td>0</td>\n",
              "      <td>2016</td>\n",
              "      <td>3</td>\n",
              "    </tr>\n",
              "    <tr>\n",
              "      <th>4</th>\n",
              "      <td>E01004563</td>\n",
              "      <td>Wandsworth</td>\n",
              "      <td>Robbery</td>\n",
              "      <td>Personal Property</td>\n",
              "      <td>0</td>\n",
              "      <td>2008</td>\n",
              "      <td>6</td>\n",
              "    </tr>\n",
              "  </tbody>\n",
              "</table>\n",
              "</div>"
            ],
            "text/plain": [
              "   lsoa_code     borough               major_category  \\\n",
              "0  E01001116     Croydon                     Burglary   \n",
              "1  E01001646   Greenwich  Violence Against the Person   \n",
              "2  E01000677     Bromley  Violence Against the Person   \n",
              "3  E01003774   Redbridge                     Burglary   \n",
              "4  E01004563  Wandsworth                      Robbery   \n",
              "\n",
              "                minor_category  value  year  month  \n",
              "0  Burglary in Other Buildings      0  2016     11  \n",
              "1               Other violence      0  2016     11  \n",
              "2               Other violence      0  2015      5  \n",
              "3  Burglary in Other Buildings      0  2016      3  \n",
              "4            Personal Property      0  2008      6  "
            ]
          },
          "execution_count": 3,
          "metadata": {},
          "output_type": "execute_result"
        }
      ],
      "source": [
        "df_lon = pd.read_csv(\"london_crime_by_lsoa.csv\")\n",
        "df_lon.head()"
      ]
    },
    {
      "cell_type": "markdown",
      "metadata": {
        "id": "sF5IWtzLSLrW"
      },
      "source": [
        "### Tail berfungsi untuk meampilkan 5 data terakhir"
      ]
    },
    {
      "cell_type": "code",
      "execution_count": null,
      "metadata": {
        "id": "v-vCzZRxSLrZ",
        "outputId": "70de6c68-0b75-45db-ceef-e5611a8f31cf"
      },
      "outputs": [
        {
          "data": {
            "text/html": [
              "<div>\n",
              "<style scoped>\n",
              "    .dataframe tbody tr th:only-of-type {\n",
              "        vertical-align: middle;\n",
              "    }\n",
              "\n",
              "    .dataframe tbody tr th {\n",
              "        vertical-align: top;\n",
              "    }\n",
              "\n",
              "    .dataframe thead th {\n",
              "        text-align: right;\n",
              "    }\n",
              "</style>\n",
              "<table border=\"1\" class=\"dataframe\">\n",
              "  <thead>\n",
              "    <tr style=\"text-align: right;\">\n",
              "      <th></th>\n",
              "      <th>lsoa_code</th>\n",
              "      <th>borough</th>\n",
              "      <th>major_category</th>\n",
              "      <th>minor_category</th>\n",
              "      <th>value</th>\n",
              "      <th>year</th>\n",
              "      <th>month</th>\n",
              "    </tr>\n",
              "  </thead>\n",
              "  <tbody>\n",
              "    <tr>\n",
              "      <th>13490599</th>\n",
              "      <td>E01000504</td>\n",
              "      <td>Brent</td>\n",
              "      <td>Criminal Damage</td>\n",
              "      <td>Criminal Damage To Dwelling</td>\n",
              "      <td>0</td>\n",
              "      <td>2015</td>\n",
              "      <td>2</td>\n",
              "    </tr>\n",
              "    <tr>\n",
              "      <th>13490600</th>\n",
              "      <td>E01002504</td>\n",
              "      <td>Hillingdon</td>\n",
              "      <td>Robbery</td>\n",
              "      <td>Personal Property</td>\n",
              "      <td>1</td>\n",
              "      <td>2015</td>\n",
              "      <td>6</td>\n",
              "    </tr>\n",
              "    <tr>\n",
              "      <th>13490601</th>\n",
              "      <td>E01004165</td>\n",
              "      <td>Sutton</td>\n",
              "      <td>Burglary</td>\n",
              "      <td>Burglary in a Dwelling</td>\n",
              "      <td>0</td>\n",
              "      <td>2011</td>\n",
              "      <td>2</td>\n",
              "    </tr>\n",
              "    <tr>\n",
              "      <th>13490602</th>\n",
              "      <td>E01001134</td>\n",
              "      <td>Croydon</td>\n",
              "      <td>Robbery</td>\n",
              "      <td>Business Property</td>\n",
              "      <td>0</td>\n",
              "      <td>2011</td>\n",
              "      <td>5</td>\n",
              "    </tr>\n",
              "    <tr>\n",
              "      <th>13490603</th>\n",
              "      <td>E01003413</td>\n",
              "      <td>Merton</td>\n",
              "      <td>Violence Against the Person</td>\n",
              "      <td>Wounding/GBH</td>\n",
              "      <td>0</td>\n",
              "      <td>2015</td>\n",
              "      <td>6</td>\n",
              "    </tr>\n",
              "  </tbody>\n",
              "</table>\n",
              "</div>"
            ],
            "text/plain": [
              "          lsoa_code     borough               major_category  \\\n",
              "13490599  E01000504       Brent              Criminal Damage   \n",
              "13490600  E01002504  Hillingdon                      Robbery   \n",
              "13490601  E01004165      Sutton                     Burglary   \n",
              "13490602  E01001134     Croydon                      Robbery   \n",
              "13490603  E01003413      Merton  Violence Against the Person   \n",
              "\n",
              "                       minor_category  value  year  month  \n",
              "13490599  Criminal Damage To Dwelling      0  2015      2  \n",
              "13490600            Personal Property      1  2015      6  \n",
              "13490601       Burglary in a Dwelling      0  2011      2  \n",
              "13490602            Business Property      0  2011      5  \n",
              "13490603                 Wounding/GBH      0  2015      6  "
            ]
          },
          "execution_count": 4,
          "metadata": {},
          "output_type": "execute_result"
        }
      ],
      "source": [
        "df_lon.tail()"
      ]
    },
    {
      "cell_type": "markdown",
      "metadata": {
        "id": "HfPvGxyZSLro"
      },
      "source": [
        "### Menampikan index dan nilai data csv"
      ]
    },
    {
      "cell_type": "code",
      "execution_count": null,
      "metadata": {
        "id": "BKboLKaFSLrq",
        "outputId": "5a8b568a-87a0-4840-efbd-01cb77e66226"
      },
      "outputs": [
        {
          "data": {
            "text/plain": [
              "RangeIndex(start=0, stop=13490604, step=1)"
            ]
          },
          "execution_count": 5,
          "metadata": {},
          "output_type": "execute_result"
        }
      ],
      "source": [
        "df_lon.index"
      ]
    },
    {
      "cell_type": "code",
      "execution_count": null,
      "metadata": {
        "id": "2ZFR5YimSLrs",
        "outputId": "441b941b-3864-4e97-fb2e-2aa1b6e552a4"
      },
      "outputs": [
        {
          "data": {
            "text/plain": [
              "array([       0,        1,        2, ..., 13490601, 13490602, 13490603],\n",
              "      dtype=int64)"
            ]
          },
          "execution_count": 6,
          "metadata": {},
          "output_type": "execute_result"
        }
      ],
      "source": [
        "df_lon.index.values"
      ]
    },
    {
      "cell_type": "code",
      "execution_count": null,
      "metadata": {
        "id": "EeZkkFdfSLru",
        "outputId": "57689182-2175-4ce1-821f-bcf0e7799fdc"
      },
      "outputs": [
        {
          "data": {
            "text/plain": [
              "<bound method DataFrame.info of           lsoa_code     borough               major_category  \\\n",
              "0         E01001116     Croydon                     Burglary   \n",
              "1         E01001646   Greenwich  Violence Against the Person   \n",
              "2         E01000677     Bromley  Violence Against the Person   \n",
              "3         E01003774   Redbridge                     Burglary   \n",
              "4         E01004563  Wandsworth                      Robbery   \n",
              "...             ...         ...                          ...   \n",
              "13490599  E01000504       Brent              Criminal Damage   \n",
              "13490600  E01002504  Hillingdon                      Robbery   \n",
              "13490601  E01004165      Sutton                     Burglary   \n",
              "13490602  E01001134     Croydon                      Robbery   \n",
              "13490603  E01003413      Merton  Violence Against the Person   \n",
              "\n",
              "                       minor_category  value  year  month  \n",
              "0         Burglary in Other Buildings      0  2016     11  \n",
              "1                      Other violence      0  2016     11  \n",
              "2                      Other violence      0  2015      5  \n",
              "3         Burglary in Other Buildings      0  2016      3  \n",
              "4                   Personal Property      0  2008      6  \n",
              "...                               ...    ...   ...    ...  \n",
              "13490599  Criminal Damage To Dwelling      0  2015      2  \n",
              "13490600            Personal Property      1  2015      6  \n",
              "13490601       Burglary in a Dwelling      0  2011      2  \n",
              "13490602            Business Property      0  2011      5  \n",
              "13490603                 Wounding/GBH      0  2015      6  \n",
              "\n",
              "[13490604 rows x 7 columns]>"
            ]
          },
          "execution_count": 7,
          "metadata": {},
          "output_type": "execute_result"
        }
      ],
      "source": [
        "df_lon.info"
      ]
    },
    {
      "cell_type": "markdown",
      "metadata": {
        "id": "Tbb4PESOSLrw"
      },
      "source": [
        "### Mengganti kolom borough menjadi Region "
      ]
    },
    {
      "cell_type": "code",
      "execution_count": null,
      "metadata": {
        "id": "acbJMcj1SLrx"
      },
      "outputs": [],
      "source": [
        "df_lon.rename(columns={'borough':'Region'}, inplace=True)"
      ]
    },
    {
      "cell_type": "code",
      "execution_count": null,
      "metadata": {
        "id": "g6G_-IP1SLrz",
        "outputId": "527cbb79-fbf9-4ade-d183-016287413359"
      },
      "outputs": [
        {
          "data": {
            "text/html": [
              "<div>\n",
              "<style scoped>\n",
              "    .dataframe tbody tr th:only-of-type {\n",
              "        vertical-align: middle;\n",
              "    }\n",
              "\n",
              "    .dataframe tbody tr th {\n",
              "        vertical-align: top;\n",
              "    }\n",
              "\n",
              "    .dataframe thead th {\n",
              "        text-align: right;\n",
              "    }\n",
              "</style>\n",
              "<table border=\"1\" class=\"dataframe\">\n",
              "  <thead>\n",
              "    <tr style=\"text-align: right;\">\n",
              "      <th></th>\n",
              "      <th>lsoa_code</th>\n",
              "      <th>Region</th>\n",
              "      <th>major_category</th>\n",
              "      <th>minor_category</th>\n",
              "      <th>value</th>\n",
              "      <th>year</th>\n",
              "      <th>month</th>\n",
              "    </tr>\n",
              "  </thead>\n",
              "  <tbody>\n",
              "    <tr>\n",
              "      <th>0</th>\n",
              "      <td>E01001116</td>\n",
              "      <td>Croydon</td>\n",
              "      <td>Burglary</td>\n",
              "      <td>Burglary in Other Buildings</td>\n",
              "      <td>0</td>\n",
              "      <td>2016</td>\n",
              "      <td>11</td>\n",
              "    </tr>\n",
              "    <tr>\n",
              "      <th>1</th>\n",
              "      <td>E01001646</td>\n",
              "      <td>Greenwich</td>\n",
              "      <td>Violence Against the Person</td>\n",
              "      <td>Other violence</td>\n",
              "      <td>0</td>\n",
              "      <td>2016</td>\n",
              "      <td>11</td>\n",
              "    </tr>\n",
              "    <tr>\n",
              "      <th>2</th>\n",
              "      <td>E01000677</td>\n",
              "      <td>Bromley</td>\n",
              "      <td>Violence Against the Person</td>\n",
              "      <td>Other violence</td>\n",
              "      <td>0</td>\n",
              "      <td>2015</td>\n",
              "      <td>5</td>\n",
              "    </tr>\n",
              "    <tr>\n",
              "      <th>3</th>\n",
              "      <td>E01003774</td>\n",
              "      <td>Redbridge</td>\n",
              "      <td>Burglary</td>\n",
              "      <td>Burglary in Other Buildings</td>\n",
              "      <td>0</td>\n",
              "      <td>2016</td>\n",
              "      <td>3</td>\n",
              "    </tr>\n",
              "    <tr>\n",
              "      <th>4</th>\n",
              "      <td>E01004563</td>\n",
              "      <td>Wandsworth</td>\n",
              "      <td>Robbery</td>\n",
              "      <td>Personal Property</td>\n",
              "      <td>0</td>\n",
              "      <td>2008</td>\n",
              "      <td>6</td>\n",
              "    </tr>\n",
              "  </tbody>\n",
              "</table>\n",
              "</div>"
            ],
            "text/plain": [
              "   lsoa_code      Region               major_category  \\\n",
              "0  E01001116     Croydon                     Burglary   \n",
              "1  E01001646   Greenwich  Violence Against the Person   \n",
              "2  E01000677     Bromley  Violence Against the Person   \n",
              "3  E01003774   Redbridge                     Burglary   \n",
              "4  E01004563  Wandsworth                      Robbery   \n",
              "\n",
              "                minor_category  value  year  month  \n",
              "0  Burglary in Other Buildings      0  2016     11  \n",
              "1               Other violence      0  2016     11  \n",
              "2               Other violence      0  2015      5  \n",
              "3  Burglary in Other Buildings      0  2016      3  \n",
              "4            Personal Property      0  2008      6  "
            ]
          },
          "execution_count": 9,
          "metadata": {},
          "output_type": "execute_result"
        }
      ],
      "source": [
        "df_lon.head()"
      ]
    },
    {
      "cell_type": "code",
      "execution_count": null,
      "metadata": {
        "id": "xhlDFFOqSLr0",
        "outputId": "56df4550-3ab8-40fc-a5b1-d9aee09505e4"
      },
      "outputs": [
        {
          "data": {
            "text/html": [
              "<div>\n",
              "<style scoped>\n",
              "    .dataframe tbody tr th:only-of-type {\n",
              "        vertical-align: middle;\n",
              "    }\n",
              "\n",
              "    .dataframe tbody tr th {\n",
              "        vertical-align: top;\n",
              "    }\n",
              "\n",
              "    .dataframe thead th {\n",
              "        text-align: right;\n",
              "    }\n",
              "</style>\n",
              "<table border=\"1\" class=\"dataframe\">\n",
              "  <thead>\n",
              "    <tr style=\"text-align: right;\">\n",
              "      <th></th>\n",
              "      <th>value</th>\n",
              "      <th>year</th>\n",
              "      <th>month</th>\n",
              "    </tr>\n",
              "  </thead>\n",
              "  <tbody>\n",
              "    <tr>\n",
              "      <th>count</th>\n",
              "      <td>1.349060e+07</td>\n",
              "      <td>1.349060e+07</td>\n",
              "      <td>1.349060e+07</td>\n",
              "    </tr>\n",
              "    <tr>\n",
              "      <th>mean</th>\n",
              "      <td>4.779444e-01</td>\n",
              "      <td>2.012000e+03</td>\n",
              "      <td>6.500000e+00</td>\n",
              "    </tr>\n",
              "    <tr>\n",
              "      <th>std</th>\n",
              "      <td>1.771513e+00</td>\n",
              "      <td>2.581989e+00</td>\n",
              "      <td>3.452053e+00</td>\n",
              "    </tr>\n",
              "    <tr>\n",
              "      <th>min</th>\n",
              "      <td>0.000000e+00</td>\n",
              "      <td>2.008000e+03</td>\n",
              "      <td>1.000000e+00</td>\n",
              "    </tr>\n",
              "    <tr>\n",
              "      <th>25%</th>\n",
              "      <td>0.000000e+00</td>\n",
              "      <td>2.010000e+03</td>\n",
              "      <td>3.750000e+00</td>\n",
              "    </tr>\n",
              "    <tr>\n",
              "      <th>50%</th>\n",
              "      <td>0.000000e+00</td>\n",
              "      <td>2.012000e+03</td>\n",
              "      <td>6.500000e+00</td>\n",
              "    </tr>\n",
              "    <tr>\n",
              "      <th>75%</th>\n",
              "      <td>1.000000e+00</td>\n",
              "      <td>2.014000e+03</td>\n",
              "      <td>9.250000e+00</td>\n",
              "    </tr>\n",
              "    <tr>\n",
              "      <th>max</th>\n",
              "      <td>3.090000e+02</td>\n",
              "      <td>2.016000e+03</td>\n",
              "      <td>1.200000e+01</td>\n",
              "    </tr>\n",
              "  </tbody>\n",
              "</table>\n",
              "</div>"
            ],
            "text/plain": [
              "              value          year         month\n",
              "count  1.349060e+07  1.349060e+07  1.349060e+07\n",
              "mean   4.779444e-01  2.012000e+03  6.500000e+00\n",
              "std    1.771513e+00  2.581989e+00  3.452053e+00\n",
              "min    0.000000e+00  2.008000e+03  1.000000e+00\n",
              "25%    0.000000e+00  2.010000e+03  3.750000e+00\n",
              "50%    0.000000e+00  2.012000e+03  6.500000e+00\n",
              "75%    1.000000e+00  2.014000e+03  9.250000e+00\n",
              "max    3.090000e+02  2.016000e+03  1.200000e+01"
            ]
          },
          "execution_count": 10,
          "metadata": {},
          "output_type": "execute_result"
        }
      ],
      "source": [
        "df_lon.describe()"
      ]
    },
    {
      "cell_type": "markdown",
      "metadata": {
        "id": "wJsxaDuZSLr1"
      },
      "source": [
        "### Menjadikan Region sebagai index data"
      ]
    },
    {
      "cell_type": "code",
      "execution_count": null,
      "metadata": {
        "id": "m5EbNByISLr2"
      },
      "outputs": [],
      "source": [
        "df_lon.set_index('Region', inplace=True)"
      ]
    },
    {
      "cell_type": "code",
      "execution_count": null,
      "metadata": {
        "id": "8k3pHoL5SLvf",
        "outputId": "31d9ba5b-0563-4eb9-9111-3b165f43b975"
      },
      "outputs": [
        {
          "data": {
            "text/html": [
              "<div>\n",
              "<style scoped>\n",
              "    .dataframe tbody tr th:only-of-type {\n",
              "        vertical-align: middle;\n",
              "    }\n",
              "\n",
              "    .dataframe tbody tr th {\n",
              "        vertical-align: top;\n",
              "    }\n",
              "\n",
              "    .dataframe thead th {\n",
              "        text-align: right;\n",
              "    }\n",
              "</style>\n",
              "<table border=\"1\" class=\"dataframe\">\n",
              "  <thead>\n",
              "    <tr style=\"text-align: right;\">\n",
              "      <th></th>\n",
              "      <th>lsoa_code</th>\n",
              "      <th>major_category</th>\n",
              "      <th>minor_category</th>\n",
              "      <th>value</th>\n",
              "      <th>year</th>\n",
              "      <th>month</th>\n",
              "    </tr>\n",
              "    <tr>\n",
              "      <th>Region</th>\n",
              "      <th></th>\n",
              "      <th></th>\n",
              "      <th></th>\n",
              "      <th></th>\n",
              "      <th></th>\n",
              "      <th></th>\n",
              "    </tr>\n",
              "  </thead>\n",
              "  <tbody>\n",
              "    <tr>\n",
              "      <th>Croydon</th>\n",
              "      <td>E01001116</td>\n",
              "      <td>Burglary</td>\n",
              "      <td>Burglary in Other Buildings</td>\n",
              "      <td>0</td>\n",
              "      <td>2016</td>\n",
              "      <td>11</td>\n",
              "    </tr>\n",
              "    <tr>\n",
              "      <th>Greenwich</th>\n",
              "      <td>E01001646</td>\n",
              "      <td>Violence Against the Person</td>\n",
              "      <td>Other violence</td>\n",
              "      <td>0</td>\n",
              "      <td>2016</td>\n",
              "      <td>11</td>\n",
              "    </tr>\n",
              "    <tr>\n",
              "      <th>Bromley</th>\n",
              "      <td>E01000677</td>\n",
              "      <td>Violence Against the Person</td>\n",
              "      <td>Other violence</td>\n",
              "      <td>0</td>\n",
              "      <td>2015</td>\n",
              "      <td>5</td>\n",
              "    </tr>\n",
              "    <tr>\n",
              "      <th>Redbridge</th>\n",
              "      <td>E01003774</td>\n",
              "      <td>Burglary</td>\n",
              "      <td>Burglary in Other Buildings</td>\n",
              "      <td>0</td>\n",
              "      <td>2016</td>\n",
              "      <td>3</td>\n",
              "    </tr>\n",
              "    <tr>\n",
              "      <th>Wandsworth</th>\n",
              "      <td>E01004563</td>\n",
              "      <td>Robbery</td>\n",
              "      <td>Personal Property</td>\n",
              "      <td>0</td>\n",
              "      <td>2008</td>\n",
              "      <td>6</td>\n",
              "    </tr>\n",
              "  </tbody>\n",
              "</table>\n",
              "</div>"
            ],
            "text/plain": [
              "            lsoa_code               major_category  \\\n",
              "Region                                               \n",
              "Croydon     E01001116                     Burglary   \n",
              "Greenwich   E01001646  Violence Against the Person   \n",
              "Bromley     E01000677  Violence Against the Person   \n",
              "Redbridge   E01003774                     Burglary   \n",
              "Wandsworth  E01004563                      Robbery   \n",
              "\n",
              "                         minor_category  value  year  month  \n",
              "Region                                                       \n",
              "Croydon     Burglary in Other Buildings      0  2016     11  \n",
              "Greenwich                Other violence      0  2016     11  \n",
              "Bromley                  Other violence      0  2015      5  \n",
              "Redbridge   Burglary in Other Buildings      0  2016      3  \n",
              "Wandsworth            Personal Property      0  2008      6  "
            ]
          },
          "execution_count": 12,
          "metadata": {},
          "output_type": "execute_result"
        }
      ],
      "source": [
        "df_lon.head()"
      ]
    },
    {
      "cell_type": "code",
      "execution_count": null,
      "metadata": {
        "id": "gU7qpvv3SLvj",
        "outputId": "d13d8e33-927f-4154-bcac-fe37b13a9b6b"
      },
      "outputs": [
        {
          "data": {
            "text/html": [
              "<div>\n",
              "<style scoped>\n",
              "    .dataframe tbody tr th:only-of-type {\n",
              "        vertical-align: middle;\n",
              "    }\n",
              "\n",
              "    .dataframe tbody tr th {\n",
              "        vertical-align: top;\n",
              "    }\n",
              "\n",
              "    .dataframe thead th {\n",
              "        text-align: right;\n",
              "    }\n",
              "</style>\n",
              "<table border=\"1\" class=\"dataframe\">\n",
              "  <thead>\n",
              "    <tr style=\"text-align: right;\">\n",
              "      <th></th>\n",
              "      <th>lsoa_code</th>\n",
              "      <th>major_category</th>\n",
              "      <th>minor_category</th>\n",
              "      <th>value</th>\n",
              "      <th>year</th>\n",
              "      <th>month</th>\n",
              "    </tr>\n",
              "    <tr>\n",
              "      <th>Region</th>\n",
              "      <th></th>\n",
              "      <th></th>\n",
              "      <th></th>\n",
              "      <th></th>\n",
              "      <th></th>\n",
              "      <th></th>\n",
              "    </tr>\n",
              "  </thead>\n",
              "  <tbody>\n",
              "    <tr>\n",
              "      <th>Brent</th>\n",
              "      <td>E01000504</td>\n",
              "      <td>Criminal Damage</td>\n",
              "      <td>Criminal Damage To Dwelling</td>\n",
              "      <td>0</td>\n",
              "      <td>2015</td>\n",
              "      <td>2</td>\n",
              "    </tr>\n",
              "    <tr>\n",
              "      <th>Hillingdon</th>\n",
              "      <td>E01002504</td>\n",
              "      <td>Robbery</td>\n",
              "      <td>Personal Property</td>\n",
              "      <td>1</td>\n",
              "      <td>2015</td>\n",
              "      <td>6</td>\n",
              "    </tr>\n",
              "    <tr>\n",
              "      <th>Sutton</th>\n",
              "      <td>E01004165</td>\n",
              "      <td>Burglary</td>\n",
              "      <td>Burglary in a Dwelling</td>\n",
              "      <td>0</td>\n",
              "      <td>2011</td>\n",
              "      <td>2</td>\n",
              "    </tr>\n",
              "    <tr>\n",
              "      <th>Croydon</th>\n",
              "      <td>E01001134</td>\n",
              "      <td>Robbery</td>\n",
              "      <td>Business Property</td>\n",
              "      <td>0</td>\n",
              "      <td>2011</td>\n",
              "      <td>5</td>\n",
              "    </tr>\n",
              "    <tr>\n",
              "      <th>Merton</th>\n",
              "      <td>E01003413</td>\n",
              "      <td>Violence Against the Person</td>\n",
              "      <td>Wounding/GBH</td>\n",
              "      <td>0</td>\n",
              "      <td>2015</td>\n",
              "      <td>6</td>\n",
              "    </tr>\n",
              "  </tbody>\n",
              "</table>\n",
              "</div>"
            ],
            "text/plain": [
              "            lsoa_code               major_category  \\\n",
              "Region                                               \n",
              "Brent       E01000504              Criminal Damage   \n",
              "Hillingdon  E01002504                      Robbery   \n",
              "Sutton      E01004165                     Burglary   \n",
              "Croydon     E01001134                      Robbery   \n",
              "Merton      E01003413  Violence Against the Person   \n",
              "\n",
              "                         minor_category  value  year  month  \n",
              "Region                                                       \n",
              "Brent       Criminal Damage To Dwelling      0  2015      2  \n",
              "Hillingdon            Personal Property      1  2015      6  \n",
              "Sutton           Burglary in a Dwelling      0  2011      2  \n",
              "Croydon               Business Property      0  2011      5  \n",
              "Merton                     Wounding/GBH      0  2015      6  "
            ]
          },
          "execution_count": 13,
          "metadata": {},
          "output_type": "execute_result"
        }
      ],
      "source": [
        "df_lon.tail()"
      ]
    },
    {
      "cell_type": "markdown",
      "metadata": {
        "id": "NmvOZ2fzSLvk"
      },
      "source": [
        "### Menampilkan data kriminal di wilayah Hillingdon dengan menggunakan syntax loc"
      ]
    },
    {
      "cell_type": "code",
      "execution_count": null,
      "metadata": {
        "id": "_Bmkb-hKSLvl",
        "outputId": "f2ca6c9c-94c9-466c-e240-34036881f55d"
      },
      "outputs": [
        {
          "data": {
            "text/html": [
              "<div>\n",
              "<style scoped>\n",
              "    .dataframe tbody tr th:only-of-type {\n",
              "        vertical-align: middle;\n",
              "    }\n",
              "\n",
              "    .dataframe tbody tr th {\n",
              "        vertical-align: top;\n",
              "    }\n",
              "\n",
              "    .dataframe thead th {\n",
              "        text-align: right;\n",
              "    }\n",
              "</style>\n",
              "<table border=\"1\" class=\"dataframe\">\n",
              "  <thead>\n",
              "    <tr style=\"text-align: right;\">\n",
              "      <th></th>\n",
              "      <th>lsoa_code</th>\n",
              "      <th>major_category</th>\n",
              "      <th>minor_category</th>\n",
              "      <th>value</th>\n",
              "      <th>year</th>\n",
              "      <th>month</th>\n",
              "    </tr>\n",
              "    <tr>\n",
              "      <th>Region</th>\n",
              "      <th></th>\n",
              "      <th></th>\n",
              "      <th></th>\n",
              "      <th></th>\n",
              "      <th></th>\n",
              "      <th></th>\n",
              "    </tr>\n",
              "  </thead>\n",
              "  <tbody>\n",
              "    <tr>\n",
              "      <th>Hillingdon</th>\n",
              "      <td>E01002398</td>\n",
              "      <td>Theft and Handling</td>\n",
              "      <td>Theft/Taking Of Motor Vehicle</td>\n",
              "      <td>0</td>\n",
              "      <td>2016</td>\n",
              "      <td>2</td>\n",
              "    </tr>\n",
              "    <tr>\n",
              "      <th>Hillingdon</th>\n",
              "      <td>E01002533</td>\n",
              "      <td>Violence Against the Person</td>\n",
              "      <td>Offensive Weapon</td>\n",
              "      <td>0</td>\n",
              "      <td>2008</td>\n",
              "      <td>10</td>\n",
              "    </tr>\n",
              "    <tr>\n",
              "      <th>Hillingdon</th>\n",
              "      <td>E01002550</td>\n",
              "      <td>Violence Against the Person</td>\n",
              "      <td>Other violence</td>\n",
              "      <td>0</td>\n",
              "      <td>2016</td>\n",
              "      <td>11</td>\n",
              "    </tr>\n",
              "    <tr>\n",
              "      <th>Hillingdon</th>\n",
              "      <td>E01002497</td>\n",
              "      <td>Violence Against the Person</td>\n",
              "      <td>Offensive Weapon</td>\n",
              "      <td>0</td>\n",
              "      <td>2014</td>\n",
              "      <td>5</td>\n",
              "    </tr>\n",
              "    <tr>\n",
              "      <th>Hillingdon</th>\n",
              "      <td>E01002529</td>\n",
              "      <td>Criminal Damage</td>\n",
              "      <td>Criminal Damage To Motor Vehicle</td>\n",
              "      <td>1</td>\n",
              "      <td>2010</td>\n",
              "      <td>8</td>\n",
              "    </tr>\n",
              "    <tr>\n",
              "      <th>...</th>\n",
              "      <td>...</td>\n",
              "      <td>...</td>\n",
              "      <td>...</td>\n",
              "      <td>...</td>\n",
              "      <td>...</td>\n",
              "      <td>...</td>\n",
              "    </tr>\n",
              "    <tr>\n",
              "      <th>Hillingdon</th>\n",
              "      <td>E01002432</td>\n",
              "      <td>Robbery</td>\n",
              "      <td>Business Property</td>\n",
              "      <td>0</td>\n",
              "      <td>2015</td>\n",
              "      <td>3</td>\n",
              "    </tr>\n",
              "    <tr>\n",
              "      <th>Hillingdon</th>\n",
              "      <td>E01002497</td>\n",
              "      <td>Robbery</td>\n",
              "      <td>Business Property</td>\n",
              "      <td>0</td>\n",
              "      <td>2015</td>\n",
              "      <td>3</td>\n",
              "    </tr>\n",
              "    <tr>\n",
              "      <th>Hillingdon</th>\n",
              "      <td>E01002499</td>\n",
              "      <td>Theft and Handling</td>\n",
              "      <td>Other Theft</td>\n",
              "      <td>0</td>\n",
              "      <td>2008</td>\n",
              "      <td>12</td>\n",
              "    </tr>\n",
              "    <tr>\n",
              "      <th>Hillingdon</th>\n",
              "      <td>E01032577</td>\n",
              "      <td>Theft and Handling</td>\n",
              "      <td>Other Theft</td>\n",
              "      <td>0</td>\n",
              "      <td>2012</td>\n",
              "      <td>2</td>\n",
              "    </tr>\n",
              "    <tr>\n",
              "      <th>Hillingdon</th>\n",
              "      <td>E01002504</td>\n",
              "      <td>Robbery</td>\n",
              "      <td>Personal Property</td>\n",
              "      <td>1</td>\n",
              "      <td>2015</td>\n",
              "      <td>6</td>\n",
              "    </tr>\n",
              "  </tbody>\n",
              "</table>\n",
              "<p>442584 rows × 6 columns</p>\n",
              "</div>"
            ],
            "text/plain": [
              "            lsoa_code               major_category  \\\n",
              "Region                                               \n",
              "Hillingdon  E01002398           Theft and Handling   \n",
              "Hillingdon  E01002533  Violence Against the Person   \n",
              "Hillingdon  E01002550  Violence Against the Person   \n",
              "Hillingdon  E01002497  Violence Against the Person   \n",
              "Hillingdon  E01002529              Criminal Damage   \n",
              "...               ...                          ...   \n",
              "Hillingdon  E01002432                      Robbery   \n",
              "Hillingdon  E01002497                      Robbery   \n",
              "Hillingdon  E01002499           Theft and Handling   \n",
              "Hillingdon  E01032577           Theft and Handling   \n",
              "Hillingdon  E01002504                      Robbery   \n",
              "\n",
              "                              minor_category  value  year  month  \n",
              "Region                                                            \n",
              "Hillingdon     Theft/Taking Of Motor Vehicle      0  2016      2  \n",
              "Hillingdon                  Offensive Weapon      0  2008     10  \n",
              "Hillingdon                    Other violence      0  2016     11  \n",
              "Hillingdon                  Offensive Weapon      0  2014      5  \n",
              "Hillingdon  Criminal Damage To Motor Vehicle      1  2010      8  \n",
              "...                                      ...    ...   ...    ...  \n",
              "Hillingdon                 Business Property      0  2015      3  \n",
              "Hillingdon                 Business Property      0  2015      3  \n",
              "Hillingdon                       Other Theft      0  2008     12  \n",
              "Hillingdon                       Other Theft      0  2012      2  \n",
              "Hillingdon                 Personal Property      1  2015      6  \n",
              "\n",
              "[442584 rows x 6 columns]"
            ]
          },
          "execution_count": 14,
          "metadata": {},
          "output_type": "execute_result"
        }
      ],
      "source": [
        "df_lon.loc['Hillingdon']"
      ]
    },
    {
      "cell_type": "markdown",
      "metadata": {
        "id": "J42e4PXWSLvm"
      },
      "source": [
        "### Membersihkan data atau Menghapus kolom yang tidak digunakan"
      ]
    },
    {
      "cell_type": "code",
      "execution_count": null,
      "metadata": {
        "id": "_CrQKKEzSLvm",
        "outputId": "154ba280-655c-42a9-d47c-54ea97421988"
      },
      "outputs": [
        {
          "data": {
            "text/html": [
              "<div>\n",
              "<style scoped>\n",
              "    .dataframe tbody tr th:only-of-type {\n",
              "        vertical-align: middle;\n",
              "    }\n",
              "\n",
              "    .dataframe tbody tr th {\n",
              "        vertical-align: top;\n",
              "    }\n",
              "\n",
              "    .dataframe thead th {\n",
              "        text-align: right;\n",
              "    }\n",
              "</style>\n",
              "<table border=\"1\" class=\"dataframe\">\n",
              "  <thead>\n",
              "    <tr style=\"text-align: right;\">\n",
              "      <th></th>\n",
              "      <th>value</th>\n",
              "      <th>year</th>\n",
              "    </tr>\n",
              "    <tr>\n",
              "      <th>Region</th>\n",
              "      <th></th>\n",
              "      <th></th>\n",
              "    </tr>\n",
              "  </thead>\n",
              "  <tbody>\n",
              "    <tr>\n",
              "      <th>Croydon</th>\n",
              "      <td>0</td>\n",
              "      <td>2016</td>\n",
              "    </tr>\n",
              "    <tr>\n",
              "      <th>Greenwich</th>\n",
              "      <td>0</td>\n",
              "      <td>2016</td>\n",
              "    </tr>\n",
              "    <tr>\n",
              "      <th>Bromley</th>\n",
              "      <td>0</td>\n",
              "      <td>2015</td>\n",
              "    </tr>\n",
              "    <tr>\n",
              "      <th>Redbridge</th>\n",
              "      <td>0</td>\n",
              "      <td>2016</td>\n",
              "    </tr>\n",
              "    <tr>\n",
              "      <th>Wandsworth</th>\n",
              "      <td>0</td>\n",
              "      <td>2008</td>\n",
              "    </tr>\n",
              "  </tbody>\n",
              "</table>\n",
              "</div>"
            ],
            "text/plain": [
              "            value  year\n",
              "Region                 \n",
              "Croydon         0  2016\n",
              "Greenwich       0  2016\n",
              "Bromley         0  2015\n",
              "Redbridge       0  2016\n",
              "Wandsworth      0  2008"
            ]
          },
          "execution_count": 15,
          "metadata": {},
          "output_type": "execute_result"
        }
      ],
      "source": [
        "#hapus kolom yg tidak diperlukan\n",
        "#bersihkan data\n",
        "kol = ['lsoa_code','major_category','minor_category','month']\n",
        "df_lon.drop(kol, axis=1, inplace=True)\n",
        "df_lon.head()"
      ]
    },
    {
      "cell_type": "code",
      "execution_count": null,
      "metadata": {
        "id": "dmkcof1BSLv4",
        "outputId": "85d7ed5b-7dc2-44f3-aa85-338af90dfa5d"
      },
      "outputs": [
        {
          "data": {
            "text/html": [
              "<div>\n",
              "<style scoped>\n",
              "    .dataframe tbody tr th:only-of-type {\n",
              "        vertical-align: middle;\n",
              "    }\n",
              "\n",
              "    .dataframe tbody tr th {\n",
              "        vertical-align: top;\n",
              "    }\n",
              "\n",
              "    .dataframe thead th {\n",
              "        text-align: right;\n",
              "    }\n",
              "</style>\n",
              "<table border=\"1\" class=\"dataframe\">\n",
              "  <thead>\n",
              "    <tr style=\"text-align: right;\">\n",
              "      <th></th>\n",
              "      <th>value</th>\n",
              "      <th>year</th>\n",
              "    </tr>\n",
              "    <tr>\n",
              "      <th>Region</th>\n",
              "      <th></th>\n",
              "      <th></th>\n",
              "    </tr>\n",
              "  </thead>\n",
              "  <tbody>\n",
              "    <tr>\n",
              "      <th>Brent</th>\n",
              "      <td>0</td>\n",
              "      <td>2015</td>\n",
              "    </tr>\n",
              "    <tr>\n",
              "      <th>Hillingdon</th>\n",
              "      <td>1</td>\n",
              "      <td>2015</td>\n",
              "    </tr>\n",
              "    <tr>\n",
              "      <th>Sutton</th>\n",
              "      <td>0</td>\n",
              "      <td>2011</td>\n",
              "    </tr>\n",
              "    <tr>\n",
              "      <th>Croydon</th>\n",
              "      <td>0</td>\n",
              "      <td>2011</td>\n",
              "    </tr>\n",
              "    <tr>\n",
              "      <th>Merton</th>\n",
              "      <td>0</td>\n",
              "      <td>2015</td>\n",
              "    </tr>\n",
              "  </tbody>\n",
              "</table>\n",
              "</div>"
            ],
            "text/plain": [
              "            value  year\n",
              "Region                 \n",
              "Brent           0  2015\n",
              "Hillingdon      1  2015\n",
              "Sutton          0  2011\n",
              "Croydon         0  2011\n",
              "Merton          0  2015"
            ]
          },
          "execution_count": 16,
          "metadata": {},
          "output_type": "execute_result"
        }
      ],
      "source": [
        "df_lon.tail()"
      ]
    },
    {
      "cell_type": "markdown",
      "metadata": {
        "id": "vaIhmsizSLv5"
      },
      "source": [
        "### Menampilkan plot data yang berisi value dengan nilai selain 0, kemudian year 2015 dengan menggunakan kondisi"
      ]
    },
    {
      "cell_type": "code",
      "execution_count": null,
      "metadata": {
        "id": "2ZjhjHraSLv6",
        "outputId": "b334267d-c169-4e64-ea51-42a788047a1e"
      },
      "outputs": [
        {
          "data": {
            "text/plain": [
              "<matplotlib.axes._subplots.AxesSubplot at 0x204187cd070>"
            ]
          },
          "execution_count": 17,
          "metadata": {},
          "output_type": "execute_result"
        },
        {
          "data": {
            "image/png": "[encoded data removed]",
            "text/plain": [
              "<Figure size 1080x576 with 1 Axes>"
            ]
          },
          "metadata": {
            "needs_background": "light"
          },
          "output_type": "display_data"
        }
      ],
      "source": [
        "kondisi1 = df_lon['value'] != 0\n",
        "kondisi2 = df_lon['year'] == 2015\n",
        "df_lon[kondisi1 & kondisi2].plot(linewidth=5, figsize=(15, 8))"
      ]
    },
    {
      "cell_type": "markdown",
      "metadata": {
        "id": "aK3PskC5SLv8"
      },
      "source": [
        "### Menampilkan data region hillingdon dan membuat area plotnya"
      ]
    },
    {
      "cell_type": "code",
      "execution_count": null,
      "metadata": {
        "id": "Ap11dmFxSLv_",
        "outputId": "184524df-f805-446e-e33f-dc7347e8ea7a"
      },
      "outputs": [
        {
          "data": {
            "text/html": [
              "<div>\n",
              "<style scoped>\n",
              "    .dataframe tbody tr th:only-of-type {\n",
              "        vertical-align: middle;\n",
              "    }\n",
              "\n",
              "    .dataframe tbody tr th {\n",
              "        vertical-align: top;\n",
              "    }\n",
              "\n",
              "    .dataframe thead th {\n",
              "        text-align: right;\n",
              "    }\n",
              "</style>\n",
              "<table border=\"1\" class=\"dataframe\">\n",
              "  <thead>\n",
              "    <tr style=\"text-align: right;\">\n",
              "      <th></th>\n",
              "      <th>value</th>\n",
              "      <th>year</th>\n",
              "    </tr>\n",
              "    <tr>\n",
              "      <th>Region</th>\n",
              "      <th></th>\n",
              "      <th></th>\n",
              "    </tr>\n",
              "  </thead>\n",
              "  <tbody>\n",
              "    <tr>\n",
              "      <th>Hillingdon</th>\n",
              "      <td>0</td>\n",
              "      <td>2016</td>\n",
              "    </tr>\n",
              "    <tr>\n",
              "      <th>Hillingdon</th>\n",
              "      <td>0</td>\n",
              "      <td>2008</td>\n",
              "    </tr>\n",
              "    <tr>\n",
              "      <th>Hillingdon</th>\n",
              "      <td>0</td>\n",
              "      <td>2016</td>\n",
              "    </tr>\n",
              "    <tr>\n",
              "      <th>Hillingdon</th>\n",
              "      <td>0</td>\n",
              "      <td>2014</td>\n",
              "    </tr>\n",
              "    <tr>\n",
              "      <th>Hillingdon</th>\n",
              "      <td>1</td>\n",
              "      <td>2010</td>\n",
              "    </tr>\n",
              "    <tr>\n",
              "      <th>...</th>\n",
              "      <td>...</td>\n",
              "      <td>...</td>\n",
              "    </tr>\n",
              "    <tr>\n",
              "      <th>Hillingdon</th>\n",
              "      <td>0</td>\n",
              "      <td>2015</td>\n",
              "    </tr>\n",
              "    <tr>\n",
              "      <th>Hillingdon</th>\n",
              "      <td>0</td>\n",
              "      <td>2015</td>\n",
              "    </tr>\n",
              "    <tr>\n",
              "      <th>Hillingdon</th>\n",
              "      <td>0</td>\n",
              "      <td>2008</td>\n",
              "    </tr>\n",
              "    <tr>\n",
              "      <th>Hillingdon</th>\n",
              "      <td>0</td>\n",
              "      <td>2012</td>\n",
              "    </tr>\n",
              "    <tr>\n",
              "      <th>Hillingdon</th>\n",
              "      <td>1</td>\n",
              "      <td>2015</td>\n",
              "    </tr>\n",
              "  </tbody>\n",
              "</table>\n",
              "<p>442584 rows × 2 columns</p>\n",
              "</div>"
            ],
            "text/plain": [
              "            value  year\n",
              "Region                 \n",
              "Hillingdon      0  2016\n",
              "Hillingdon      0  2008\n",
              "Hillingdon      0  2016\n",
              "Hillingdon      0  2014\n",
              "Hillingdon      1  2010\n",
              "...           ...   ...\n",
              "Hillingdon      0  2015\n",
              "Hillingdon      0  2015\n",
              "Hillingdon      0  2008\n",
              "Hillingdon      0  2012\n",
              "Hillingdon      1  2015\n",
              "\n",
              "[442584 rows x 2 columns]"
            ]
          },
          "execution_count": 20,
          "metadata": {},
          "output_type": "execute_result"
        }
      ],
      "source": [
        "Hillingdon = df_lon.loc['Hillingdon']\n",
        "Hillingdon"
      ]
    },
    {
      "cell_type": "code",
      "execution_count": null,
      "metadata": {
        "id": "ZMpqnyjfSLwC",
        "outputId": "ee343f3e-b9ab-4052-e064-c34b202f9a92"
      },
      "outputs": [
        {
          "data": {
            "text/plain": [
              "<matplotlib.axes._subplots.AxesSubplot at 0x2041e4c1af0>"
            ]
          },
          "execution_count": 22,
          "metadata": {},
          "output_type": "execute_result"
        },
        {
          "data": {
            "image/png": "[encoded data removed]",
            "text/plain": [
              "<Figure size 792x648 with 1 Axes>"
            ]
          },
          "metadata": {
            "needs_background": "light"
          },
          "output_type": "display_data"
        }
      ],
      "source": [
        "Hillingdon.plot(marker='.',alpha=0.5, linewidth=0.5, figsize=(11,9))"
      ]
    },
    {
      "cell_type": "code",
      "execution_count": null,
      "metadata": {
        "id": "zOcI_hSySLwD",
        "outputId": "34d311e5-695a-449f-8185-9f87667cb68a"
      },
      "outputs": [
        {
          "data": {
            "image/png": "[encoded data removed]",
            "text/plain": [
              "<Figure size 1080x576 with 1 Axes>"
            ]
          },
          "metadata": {
            "needs_background": "light"
          },
          "output_type": "display_data"
        }
      ],
      "source": [
        "Hillingdon.plot(kind='area',\n",
        "             stacked=False,\n",
        "             figsize=(15, 8));"
      ]
    },
    {
      "cell_type": "markdown",
      "metadata": {
        "id": "OPb15EoySLwE"
      },
      "source": [
        "### Menampilkan data Hillingdon dengan value selain 0 pada tahun 2011"
      ]
    },
    {
      "cell_type": "code",
      "execution_count": null,
      "metadata": {
        "id": "K0T4tAlLSLwF",
        "outputId": "b68279b5-904a-4321-fc2d-aea44b456e9e"
      },
      "outputs": [
        {
          "data": {
            "text/plain": [
              "<matplotlib.axes._subplots.AxesSubplot at 0x2041f4608b0>"
            ]
          },
          "execution_count": 46,
          "metadata": {},
          "output_type": "execute_result"
        },
        {
          "data": {
            "image/png": "[encoded data removed]",
            "text/plain": [
              "<Figure size 1080x576 with 1 Axes>"
            ]
          },
          "metadata": {
            "needs_background": "light"
          },
          "output_type": "display_data"
        }
      ],
      "source": [
        "kondisi3 = Hillingdon['value'] != 0\n",
        "kondisi4 = Hillingdon['year'] == 2011\n",
        "Hillingdon[kondisi3 & kondisi4].plot(linewidth=1, figsize=(15,8))"
      ]
    },
    {
      "cell_type": "markdown",
      "metadata": {
        "id": "hO19IqBRSLwG"
      },
      "source": [
        "### Menampilkan 100 data Hillingdon "
      ]
    },
    {
      "cell_type": "code",
      "execution_count": null,
      "metadata": {
        "id": "p6X_y46NSLwH",
        "outputId": "ec75f199-2659-4ad1-a4cd-994b93b35d87"
      },
      "outputs": [
        {
          "data": {
            "text/html": [
              "<div>\n",
              "<style scoped>\n",
              "    .dataframe tbody tr th:only-of-type {\n",
              "        vertical-align: middle;\n",
              "    }\n",
              "\n",
              "    .dataframe tbody tr th {\n",
              "        vertical-align: top;\n",
              "    }\n",
              "\n",
              "    .dataframe thead th {\n",
              "        text-align: right;\n",
              "    }\n",
              "</style>\n",
              "<table border=\"1\" class=\"dataframe\">\n",
              "  <thead>\n",
              "    <tr style=\"text-align: right;\">\n",
              "      <th></th>\n",
              "      <th>value</th>\n",
              "      <th>year</th>\n",
              "    </tr>\n",
              "    <tr>\n",
              "      <th>Region</th>\n",
              "      <th></th>\n",
              "      <th></th>\n",
              "    </tr>\n",
              "  </thead>\n",
              "  <tbody>\n",
              "    <tr>\n",
              "      <th>Hillingdon</th>\n",
              "      <td>0</td>\n",
              "      <td>2016</td>\n",
              "    </tr>\n",
              "    <tr>\n",
              "      <th>Hillingdon</th>\n",
              "      <td>0</td>\n",
              "      <td>2008</td>\n",
              "    </tr>\n",
              "    <tr>\n",
              "      <th>Hillingdon</th>\n",
              "      <td>0</td>\n",
              "      <td>2016</td>\n",
              "    </tr>\n",
              "    <tr>\n",
              "      <th>Hillingdon</th>\n",
              "      <td>0</td>\n",
              "      <td>2014</td>\n",
              "    </tr>\n",
              "    <tr>\n",
              "      <th>Hillingdon</th>\n",
              "      <td>1</td>\n",
              "      <td>2010</td>\n",
              "    </tr>\n",
              "    <tr>\n",
              "      <th>...</th>\n",
              "      <td>...</td>\n",
              "      <td>...</td>\n",
              "    </tr>\n",
              "    <tr>\n",
              "      <th>Hillingdon</th>\n",
              "      <td>0</td>\n",
              "      <td>2009</td>\n",
              "    </tr>\n",
              "    <tr>\n",
              "      <th>Hillingdon</th>\n",
              "      <td>0</td>\n",
              "      <td>2009</td>\n",
              "    </tr>\n",
              "    <tr>\n",
              "      <th>Hillingdon</th>\n",
              "      <td>0</td>\n",
              "      <td>2011</td>\n",
              "    </tr>\n",
              "    <tr>\n",
              "      <th>Hillingdon</th>\n",
              "      <td>1</td>\n",
              "      <td>2009</td>\n",
              "    </tr>\n",
              "    <tr>\n",
              "      <th>Hillingdon</th>\n",
              "      <td>1</td>\n",
              "      <td>2012</td>\n",
              "    </tr>\n",
              "  </tbody>\n",
              "</table>\n",
              "<p>100 rows × 2 columns</p>\n",
              "</div>"
            ],
            "text/plain": [
              "            value  year\n",
              "Region                 \n",
              "Hillingdon      0  2016\n",
              "Hillingdon      0  2008\n",
              "Hillingdon      0  2016\n",
              "Hillingdon      0  2014\n",
              "Hillingdon      1  2010\n",
              "...           ...   ...\n",
              "Hillingdon      0  2009\n",
              "Hillingdon      0  2009\n",
              "Hillingdon      0  2011\n",
              "Hillingdon      1  2009\n",
              "Hillingdon      1  2012\n",
              "\n",
              "[100 rows x 2 columns]"
            ]
          },
          "execution_count": 49,
          "metadata": {},
          "output_type": "execute_result"
        }
      ],
      "source": [
        "H2 = Hillingdon.iloc[:100,:]\n",
        "H2"
      ]
    },
    {
      "cell_type": "code",
      "execution_count": null,
      "metadata": {
        "id": "dGUBUgZmSLwR",
        "outputId": "2fe157f2-8342-4418-9670-a130686f7afb"
      },
      "outputs": [
        {
          "data": {
            "text/plain": [
              "<matplotlib.axes._subplots.AxesSubplot at 0x2041fb06d00>"
            ]
          },
          "execution_count": 48,
          "metadata": {},
          "output_type": "execute_result"
        },
        {
          "data": {
            "image/png": "[encoded data removed]",
            "text/plain": [
              "<Figure size 720x360 with 1 Axes>"
            ]
          },
          "metadata": {
            "needs_background": "light"
          },
          "output_type": "display_data"
        }
      ],
      "source": [
        "kondisi3 = H2['value'] != 0\n",
        "kondisi4 = H2['year'] == 2011\n",
        "H2[kondisi3 & kondisi4].plot(linewidth=1, figsize=(10,5))"
      ]
    },
    {
      "cell_type": "markdown",
      "metadata": {
        "id": "BNgUiXwPSLwS"
      },
      "source": [
        "### Bar Plot"
      ]
    },
    {
      "cell_type": "code",
      "execution_count": null,
      "metadata": {
        "id": "UrjFsbW7SLwT",
        "outputId": "3e58866d-d690-41fe-b61e-2414a01c3a15"
      },
      "outputs": [
        {
          "data": {
            "image/png": "[encoded data removed]",
            "text/plain": [
              "<Figure size 432x288 with 1 Axes>"
            ]
          },
          "metadata": {
            "needs_background": "light"
          },
          "output_type": "display_data"
        }
      ],
      "source": [
        "H2.sum().plot(kind='bar');"
      ]
    },
    {
      "cell_type": "markdown",
      "metadata": {
        "id": "JXKIkQ0YSLwV"
      },
      "source": [
        "### Menampilkan data region sutton dengan syntax loc dan membuat plotnya"
      ]
    },
    {
      "cell_type": "code",
      "execution_count": null,
      "metadata": {
        "id": "7Vg8wEU7SLwV",
        "outputId": "36916e99-e97c-4903-c955-c6b5d140566f"
      },
      "outputs": [
        {
          "data": {
            "text/html": [
              "<div>\n",
              "<style scoped>\n",
              "    .dataframe tbody tr th:only-of-type {\n",
              "        vertical-align: middle;\n",
              "    }\n",
              "\n",
              "    .dataframe tbody tr th {\n",
              "        vertical-align: top;\n",
              "    }\n",
              "\n",
              "    .dataframe thead th {\n",
              "        text-align: right;\n",
              "    }\n",
              "</style>\n",
              "<table border=\"1\" class=\"dataframe\">\n",
              "  <thead>\n",
              "    <tr style=\"text-align: right;\">\n",
              "      <th></th>\n",
              "      <th>value</th>\n",
              "      <th>year</th>\n",
              "    </tr>\n",
              "    <tr>\n",
              "      <th>Region</th>\n",
              "      <th></th>\n",
              "      <th></th>\n",
              "    </tr>\n",
              "  </thead>\n",
              "  <tbody>\n",
              "    <tr>\n",
              "      <th>Sutton</th>\n",
              "      <td>1</td>\n",
              "      <td>2016</td>\n",
              "    </tr>\n",
              "    <tr>\n",
              "      <th>Sutton</th>\n",
              "      <td>0</td>\n",
              "      <td>2009</td>\n",
              "    </tr>\n",
              "    <tr>\n",
              "      <th>Sutton</th>\n",
              "      <td>1</td>\n",
              "      <td>2008</td>\n",
              "    </tr>\n",
              "    <tr>\n",
              "      <th>Sutton</th>\n",
              "      <td>3</td>\n",
              "      <td>2013</td>\n",
              "    </tr>\n",
              "    <tr>\n",
              "      <th>Sutton</th>\n",
              "      <td>0</td>\n",
              "      <td>2016</td>\n",
              "    </tr>\n",
              "    <tr>\n",
              "      <th>...</th>\n",
              "      <td>...</td>\n",
              "      <td>...</td>\n",
              "    </tr>\n",
              "    <tr>\n",
              "      <th>Sutton</th>\n",
              "      <td>0</td>\n",
              "      <td>2009</td>\n",
              "    </tr>\n",
              "    <tr>\n",
              "      <th>Sutton</th>\n",
              "      <td>0</td>\n",
              "      <td>2009</td>\n",
              "    </tr>\n",
              "    <tr>\n",
              "      <th>Sutton</th>\n",
              "      <td>4</td>\n",
              "      <td>2013</td>\n",
              "    </tr>\n",
              "    <tr>\n",
              "      <th>Sutton</th>\n",
              "      <td>0</td>\n",
              "      <td>2016</td>\n",
              "    </tr>\n",
              "    <tr>\n",
              "      <th>Sutton</th>\n",
              "      <td>0</td>\n",
              "      <td>2011</td>\n",
              "    </tr>\n",
              "  </tbody>\n",
              "</table>\n",
              "<p>322488 rows × 2 columns</p>\n",
              "</div>"
            ],
            "text/plain": [
              "        value  year\n",
              "Region             \n",
              "Sutton      1  2016\n",
              "Sutton      0  2009\n",
              "Sutton      1  2008\n",
              "Sutton      3  2013\n",
              "Sutton      0  2016\n",
              "...       ...   ...\n",
              "Sutton      0  2009\n",
              "Sutton      0  2009\n",
              "Sutton      4  2013\n",
              "Sutton      0  2016\n",
              "Sutton      0  2011\n",
              "\n",
              "[322488 rows x 2 columns]"
            ]
          },
          "execution_count": 24,
          "metadata": {},
          "output_type": "execute_result"
        }
      ],
      "source": [
        "Sutton = df_lon.loc['Sutton']\n",
        "Sutton"
      ]
    },
    {
      "cell_type": "code",
      "execution_count": null,
      "metadata": {
        "id": "Q4pUboymSLwa",
        "outputId": "3715fb2f-ec0a-4a86-ec31-47045344a42c"
      },
      "outputs": [
        {
          "data": {
            "text/plain": [
              "<matplotlib.axes._subplots.AxesSubplot at 0x2041fbef6a0>"
            ]
          },
          "execution_count": 25,
          "metadata": {},
          "output_type": "execute_result"
        },
        {
          "data": {
            "image/png": "[encoded data removed]",
            "text/plain": [
              "<Figure size 1080x576 with 1 Axes>"
            ]
          },
          "metadata": {
            "needs_background": "light"
          },
          "output_type": "display_data"
        }
      ],
      "source": [
        "Sutton.plot(linewidth=5, figsize=(15, 8))"
      ]
    },
    {
      "cell_type": "markdown",
      "metadata": {
        "id": "YSZgorHJSLwc"
      },
      "source": [
        "### Menampilkan region merton"
      ]
    },
    {
      "cell_type": "code",
      "execution_count": null,
      "metadata": {
        "id": "pBYOz1UySLwd",
        "outputId": "8ef047c6-d86d-48ca-ad5c-53461718c2e6"
      },
      "outputs": [
        {
          "data": {
            "text/html": [
              "<div>\n",
              "<style scoped>\n",
              "    .dataframe tbody tr th:only-of-type {\n",
              "        vertical-align: middle;\n",
              "    }\n",
              "\n",
              "    .dataframe tbody tr th {\n",
              "        vertical-align: top;\n",
              "    }\n",
              "\n",
              "    .dataframe thead th {\n",
              "        text-align: right;\n",
              "    }\n",
              "</style>\n",
              "<table border=\"1\" class=\"dataframe\">\n",
              "  <thead>\n",
              "    <tr style=\"text-align: right;\">\n",
              "      <th></th>\n",
              "      <th>value</th>\n",
              "      <th>year</th>\n",
              "    </tr>\n",
              "    <tr>\n",
              "      <th>Region</th>\n",
              "      <th></th>\n",
              "      <th></th>\n",
              "    </tr>\n",
              "  </thead>\n",
              "  <tbody>\n",
              "    <tr>\n",
              "      <th>Merton</th>\n",
              "      <td>0</td>\n",
              "      <td>2009</td>\n",
              "    </tr>\n",
              "    <tr>\n",
              "      <th>Merton</th>\n",
              "      <td>0</td>\n",
              "      <td>2013</td>\n",
              "    </tr>\n",
              "    <tr>\n",
              "      <th>Merton</th>\n",
              "      <td>0</td>\n",
              "      <td>2013</td>\n",
              "    </tr>\n",
              "    <tr>\n",
              "      <th>Merton</th>\n",
              "      <td>1</td>\n",
              "      <td>2009</td>\n",
              "    </tr>\n",
              "    <tr>\n",
              "      <th>Merton</th>\n",
              "      <td>2</td>\n",
              "      <td>2012</td>\n",
              "    </tr>\n",
              "    <tr>\n",
              "      <th>...</th>\n",
              "      <td>...</td>\n",
              "      <td>...</td>\n",
              "    </tr>\n",
              "    <tr>\n",
              "      <th>Merton</th>\n",
              "      <td>1</td>\n",
              "      <td>2012</td>\n",
              "    </tr>\n",
              "    <tr>\n",
              "      <th>Merton</th>\n",
              "      <td>2</td>\n",
              "      <td>2011</td>\n",
              "    </tr>\n",
              "    <tr>\n",
              "      <th>Merton</th>\n",
              "      <td>0</td>\n",
              "      <td>2014</td>\n",
              "    </tr>\n",
              "    <tr>\n",
              "      <th>Merton</th>\n",
              "      <td>0</td>\n",
              "      <td>2015</td>\n",
              "    </tr>\n",
              "    <tr>\n",
              "      <th>Merton</th>\n",
              "      <td>0</td>\n",
              "      <td>2015</td>\n",
              "    </tr>\n",
              "  </tbody>\n",
              "</table>\n",
              "<p>339876 rows × 2 columns</p>\n",
              "</div>"
            ],
            "text/plain": [
              "        value  year\n",
              "Region             \n",
              "Merton      0  2009\n",
              "Merton      0  2013\n",
              "Merton      0  2013\n",
              "Merton      1  2009\n",
              "Merton      2  2012\n",
              "...       ...   ...\n",
              "Merton      1  2012\n",
              "Merton      2  2011\n",
              "Merton      0  2014\n",
              "Merton      0  2015\n",
              "Merton      0  2015\n",
              "\n",
              "[339876 rows x 2 columns]"
            ]
          },
          "execution_count": 26,
          "metadata": {},
          "output_type": "execute_result"
        }
      ],
      "source": [
        "df_lon.loc['Merton']"
      ]
    },
    {
      "cell_type": "code",
      "execution_count": null,
      "metadata": {
        "id": "W8wuD9fbSLwt",
        "outputId": "78901edb-603b-457e-fd04-c48e2e13085b"
      },
      "outputs": [
        {
          "data": {
            "text/html": [
              "<div>\n",
              "<style scoped>\n",
              "    .dataframe tbody tr th:only-of-type {\n",
              "        vertical-align: middle;\n",
              "    }\n",
              "\n",
              "    .dataframe tbody tr th {\n",
              "        vertical-align: top;\n",
              "    }\n",
              "\n",
              "    .dataframe thead th {\n",
              "        text-align: right;\n",
              "    }\n",
              "</style>\n",
              "<table border=\"1\" class=\"dataframe\">\n",
              "  <thead>\n",
              "    <tr style=\"text-align: right;\">\n",
              "      <th></th>\n",
              "      <th>value</th>\n",
              "      <th>year</th>\n",
              "    </tr>\n",
              "    <tr>\n",
              "      <th>Region</th>\n",
              "      <th></th>\n",
              "      <th></th>\n",
              "    </tr>\n",
              "  </thead>\n",
              "  <tbody>\n",
              "    <tr>\n",
              "      <th>Sutton</th>\n",
              "      <td>1</td>\n",
              "      <td>2016</td>\n",
              "    </tr>\n",
              "    <tr>\n",
              "      <th>Sutton</th>\n",
              "      <td>0</td>\n",
              "      <td>2009</td>\n",
              "    </tr>\n",
              "    <tr>\n",
              "      <th>Sutton</th>\n",
              "      <td>1</td>\n",
              "      <td>2008</td>\n",
              "    </tr>\n",
              "    <tr>\n",
              "      <th>Sutton</th>\n",
              "      <td>3</td>\n",
              "      <td>2013</td>\n",
              "    </tr>\n",
              "    <tr>\n",
              "      <th>Sutton</th>\n",
              "      <td>0</td>\n",
              "      <td>2016</td>\n",
              "    </tr>\n",
              "    <tr>\n",
              "      <th>...</th>\n",
              "      <td>...</td>\n",
              "      <td>...</td>\n",
              "    </tr>\n",
              "    <tr>\n",
              "      <th>Sutton</th>\n",
              "      <td>0</td>\n",
              "      <td>2011</td>\n",
              "    </tr>\n",
              "    <tr>\n",
              "      <th>Sutton</th>\n",
              "      <td>0</td>\n",
              "      <td>2014</td>\n",
              "    </tr>\n",
              "    <tr>\n",
              "      <th>Sutton</th>\n",
              "      <td>0</td>\n",
              "      <td>2010</td>\n",
              "    </tr>\n",
              "    <tr>\n",
              "      <th>Sutton</th>\n",
              "      <td>0</td>\n",
              "      <td>2009</td>\n",
              "    </tr>\n",
              "    <tr>\n",
              "      <th>Sutton</th>\n",
              "      <td>0</td>\n",
              "      <td>2009</td>\n",
              "    </tr>\n",
              "  </tbody>\n",
              "</table>\n",
              "<p>100 rows × 2 columns</p>\n",
              "</div>"
            ],
            "text/plain": [
              "        value  year\n",
              "Region             \n",
              "Sutton      1  2016\n",
              "Sutton      0  2009\n",
              "Sutton      1  2008\n",
              "Sutton      3  2013\n",
              "Sutton      0  2016\n",
              "...       ...   ...\n",
              "Sutton      0  2011\n",
              "Sutton      0  2014\n",
              "Sutton      0  2010\n",
              "Sutton      0  2009\n",
              "Sutton      0  2009\n",
              "\n",
              "[100 rows x 2 columns]"
            ]
          },
          "execution_count": 32,
          "metadata": {},
          "output_type": "execute_result"
        }
      ],
      "source": [
        "df_sutton = Sutton.iloc[:100,:2]\n",
        "df_sutton"
      ]
    },
    {
      "cell_type": "markdown",
      "metadata": {
        "id": "d-GvRG25SLw5"
      },
      "source": [
        "### Mengambil 100 data dengan valuenya"
      ]
    },
    {
      "cell_type": "code",
      "execution_count": null,
      "metadata": {
        "id": "XBAb3pXpSLw5",
        "outputId": "7abe180a-12d8-4eb5-a756-c29e715d245f"
      },
      "outputs": [
        {
          "data": {
            "text/html": [
              "<div>\n",
              "<style scoped>\n",
              "    .dataframe tbody tr th:only-of-type {\n",
              "        vertical-align: middle;\n",
              "    }\n",
              "\n",
              "    .dataframe tbody tr th {\n",
              "        vertical-align: top;\n",
              "    }\n",
              "\n",
              "    .dataframe thead th {\n",
              "        text-align: right;\n",
              "    }\n",
              "</style>\n",
              "<table border=\"1\" class=\"dataframe\">\n",
              "  <thead>\n",
              "    <tr style=\"text-align: right;\">\n",
              "      <th></th>\n",
              "      <th>value</th>\n",
              "    </tr>\n",
              "    <tr>\n",
              "      <th>Region</th>\n",
              "      <th></th>\n",
              "    </tr>\n",
              "  </thead>\n",
              "  <tbody>\n",
              "    <tr>\n",
              "      <th>Croydon</th>\n",
              "      <td>0</td>\n",
              "    </tr>\n",
              "    <tr>\n",
              "      <th>Greenwich</th>\n",
              "      <td>0</td>\n",
              "    </tr>\n",
              "    <tr>\n",
              "      <th>Bromley</th>\n",
              "      <td>0</td>\n",
              "    </tr>\n",
              "    <tr>\n",
              "      <th>Redbridge</th>\n",
              "      <td>0</td>\n",
              "    </tr>\n",
              "    <tr>\n",
              "      <th>Wandsworth</th>\n",
              "      <td>0</td>\n",
              "    </tr>\n",
              "    <tr>\n",
              "      <th>...</th>\n",
              "      <td>...</td>\n",
              "    </tr>\n",
              "    <tr>\n",
              "      <th>Haringey</th>\n",
              "      <td>1</td>\n",
              "    </tr>\n",
              "    <tr>\n",
              "      <th>Havering</th>\n",
              "      <td>0</td>\n",
              "    </tr>\n",
              "    <tr>\n",
              "      <th>Sutton</th>\n",
              "      <td>3</td>\n",
              "    </tr>\n",
              "    <tr>\n",
              "      <th>Bexley</th>\n",
              "      <td>0</td>\n",
              "    </tr>\n",
              "    <tr>\n",
              "      <th>Barnet</th>\n",
              "      <td>1</td>\n",
              "    </tr>\n",
              "  </tbody>\n",
              "</table>\n",
              "<p>100 rows × 1 columns</p>\n",
              "</div>"
            ],
            "text/plain": [
              "            value\n",
              "Region           \n",
              "Croydon         0\n",
              "Greenwich       0\n",
              "Bromley         0\n",
              "Redbridge       0\n",
              "Wandsworth      0\n",
              "...           ...\n",
              "Haringey        1\n",
              "Havering        0\n",
              "Sutton          3\n",
              "Bexley          0\n",
              "Barnet          1\n",
              "\n",
              "[100 rows x 1 columns]"
            ]
          },
          "execution_count": 42,
          "metadata": {},
          "output_type": "execute_result"
        }
      ],
      "source": [
        "df_region = df_lon.iloc[:100,:1]\n",
        "df_region"
      ]
    },
    {
      "cell_type": "markdown",
      "metadata": {
        "id": "d1WOTXRbSLw6"
      },
      "source": [
        "### Menampilkan data berdasarkan Region dan menjumlahkdan value"
      ]
    },
    {
      "cell_type": "code",
      "execution_count": null,
      "metadata": {
        "id": "aS2YC2y4SLw6",
        "outputId": "b71606fc-48c2-4580-f845-48a0d51fdd3c"
      },
      "outputs": [
        {
          "data": {
            "text/html": [
              "<div>\n",
              "<style scoped>\n",
              "    .dataframe tbody tr th:only-of-type {\n",
              "        vertical-align: middle;\n",
              "    }\n",
              "\n",
              "    .dataframe tbody tr th {\n",
              "        vertical-align: top;\n",
              "    }\n",
              "\n",
              "    .dataframe thead th {\n",
              "        text-align: right;\n",
              "    }\n",
              "</style>\n",
              "<table border=\"1\" class=\"dataframe\">\n",
              "  <thead>\n",
              "    <tr style=\"text-align: right;\">\n",
              "      <th></th>\n",
              "      <th>value</th>\n",
              "      <th>year</th>\n",
              "    </tr>\n",
              "    <tr>\n",
              "      <th>Region</th>\n",
              "      <th></th>\n",
              "      <th></th>\n",
              "    </tr>\n",
              "  </thead>\n",
              "  <tbody>\n",
              "    <tr>\n",
              "      <th>Barking and Dagenham</th>\n",
              "      <td>149447</td>\n",
              "      <td>625812480</td>\n",
              "    </tr>\n",
              "    <tr>\n",
              "      <th>Barnet</th>\n",
              "      <td>212191</td>\n",
              "      <td>1152537984</td>\n",
              "    </tr>\n",
              "    <tr>\n",
              "      <th>Bexley</th>\n",
              "      <td>114136</td>\n",
              "      <td>775964016</td>\n",
              "    </tr>\n",
              "    <tr>\n",
              "      <th>Brent</th>\n",
              "      <td>227551</td>\n",
              "      <td>987175728</td>\n",
              "    </tr>\n",
              "    <tr>\n",
              "      <th>Bromley</th>\n",
              "      <td>184349</td>\n",
              "      <td>1054102896</td>\n",
              "    </tr>\n",
              "    <tr>\n",
              "      <th>Camden</th>\n",
              "      <td>275147</td>\n",
              "      <td>761405184</td>\n",
              "    </tr>\n",
              "    <tr>\n",
              "      <th>City of London</th>\n",
              "      <td>780</td>\n",
              "      <td>19556640</td>\n",
              "    </tr>\n",
              "    <tr>\n",
              "      <th>Croydon</th>\n",
              "      <td>260294</td>\n",
              "      <td>1211425200</td>\n",
              "    </tr>\n",
              "    <tr>\n",
              "      <th>Ealing</th>\n",
              "      <td>251562</td>\n",
              "      <td>1105384752</td>\n",
              "    </tr>\n",
              "    <tr>\n",
              "      <th>Enfield</th>\n",
              "      <td>193880</td>\n",
              "      <td>1028461968</td>\n",
              "    </tr>\n",
              "    <tr>\n",
              "      <th>Greenwich</th>\n",
              "      <td>181568</td>\n",
              "      <td>847454400</td>\n",
              "    </tr>\n",
              "    <tr>\n",
              "      <th>Hackney</th>\n",
              "      <td>217119</td>\n",
              "      <td>840500928</td>\n",
              "    </tr>\n",
              "    <tr>\n",
              "      <th>Hammersmith and Fulham</th>\n",
              "      <td>185259</td>\n",
              "      <td>661449024</td>\n",
              "    </tr>\n",
              "    <tr>\n",
              "      <th>Haringey</th>\n",
              "      <td>213272</td>\n",
              "      <td>832678272</td>\n",
              "    </tr>\n",
              "    <tr>\n",
              "      <th>Harrow</th>\n",
              "      <td>116848</td>\n",
              "      <td>735764256</td>\n",
              "    </tr>\n",
              "    <tr>\n",
              "      <th>Havering</th>\n",
              "      <td>138947</td>\n",
              "      <td>803995200</td>\n",
              "    </tr>\n",
              "    <tr>\n",
              "      <th>Hillingdon</th>\n",
              "      <td>209680</td>\n",
              "      <td>890479008</td>\n",
              "    </tr>\n",
              "    <tr>\n",
              "      <th>Hounslow</th>\n",
              "      <td>186772</td>\n",
              "      <td>796607136</td>\n",
              "    </tr>\n",
              "    <tr>\n",
              "      <th>Islington</th>\n",
              "      <td>230286</td>\n",
              "      <td>722726496</td>\n",
              "    </tr>\n",
              "    <tr>\n",
              "      <th>Kensington and Chelsea</th>\n",
              "      <td>171981</td>\n",
              "      <td>597129408</td>\n",
              "    </tr>\n",
              "    <tr>\n",
              "      <th>Kingston upon Thames</th>\n",
              "      <td>89306</td>\n",
              "      <td>522162288</td>\n",
              "    </tr>\n",
              "    <tr>\n",
              "      <th>Lambeth</th>\n",
              "      <td>292178</td>\n",
              "      <td>1044324576</td>\n",
              "    </tr>\n",
              "    <tr>\n",
              "      <th>Lewisham</th>\n",
              "      <td>215137</td>\n",
              "      <td>976093632</td>\n",
              "    </tr>\n",
              "    <tr>\n",
              "      <th>Merton</th>\n",
              "      <td>115654</td>\n",
              "      <td>683830512</td>\n",
              "    </tr>\n",
              "    <tr>\n",
              "      <th>Newham</th>\n",
              "      <td>262024</td>\n",
              "      <td>948497040</td>\n",
              "    </tr>\n",
              "    <tr>\n",
              "      <th>Redbridge</th>\n",
              "      <td>183562</td>\n",
              "      <td>896780592</td>\n",
              "    </tr>\n",
              "    <tr>\n",
              "      <th>Richmond upon Thames</th>\n",
              "      <td>96771</td>\n",
              "      <td>611905536</td>\n",
              "    </tr>\n",
              "    <tr>\n",
              "      <th>Southwark</th>\n",
              "      <td>278809</td>\n",
              "      <td>972399600</td>\n",
              "    </tr>\n",
              "    <tr>\n",
              "      <th>Sutton</th>\n",
              "      <td>100987</td>\n",
              "      <td>648845856</td>\n",
              "    </tr>\n",
              "    <tr>\n",
              "      <th>Tower Hamlets</th>\n",
              "      <td>228613</td>\n",
              "      <td>829201536</td>\n",
              "    </tr>\n",
              "    <tr>\n",
              "      <th>Waltham Forest</th>\n",
              "      <td>203879</td>\n",
              "      <td>817467552</td>\n",
              "    </tr>\n",
              "    <tr>\n",
              "      <th>Wandsworth</th>\n",
              "      <td>204741</td>\n",
              "      <td>1003255632</td>\n",
              "    </tr>\n",
              "    <tr>\n",
              "      <th>Westminster</th>\n",
              "      <td>455028</td>\n",
              "      <td>737719920</td>\n",
              "    </tr>\n",
              "  </tbody>\n",
              "</table>\n",
              "</div>"
            ],
            "text/plain": [
              "                         value        year\n",
              "Region                                    \n",
              "Barking and Dagenham    149447   625812480\n",
              "Barnet                  212191  1152537984\n",
              "Bexley                  114136   775964016\n",
              "Brent                   227551   987175728\n",
              "Bromley                 184349  1054102896\n",
              "Camden                  275147   761405184\n",
              "City of London             780    19556640\n",
              "Croydon                 260294  1211425200\n",
              "Ealing                  251562  1105384752\n",
              "Enfield                 193880  1028461968\n",
              "Greenwich               181568   847454400\n",
              "Hackney                 217119   840500928\n",
              "Hammersmith and Fulham  185259   661449024\n",
              "Haringey                213272   832678272\n",
              "Harrow                  116848   735764256\n",
              "Havering                138947   803995200\n",
              "Hillingdon              209680   890479008\n",
              "Hounslow                186772   796607136\n",
              "Islington               230286   722726496\n",
              "Kensington and Chelsea  171981   597129408\n",
              "Kingston upon Thames     89306   522162288\n",
              "Lambeth                 292178  1044324576\n",
              "Lewisham                215137   976093632\n",
              "Merton                  115654   683830512\n",
              "Newham                  262024   948497040\n",
              "Redbridge               183562   896780592\n",
              "Richmond upon Thames     96771   611905536\n",
              "Southwark               278809   972399600\n",
              "Sutton                  100987   648845856\n",
              "Tower Hamlets           228613   829201536\n",
              "Waltham Forest          203879   817467552\n",
              "Wandsworth              204741  1003255632\n",
              "Westminster             455028   737719920"
            ]
          },
          "execution_count": 43,
          "metadata": {},
          "output_type": "execute_result"
        }
      ],
      "source": [
        "df_region = df_lon.groupby('Region').sum()\n",
        "df_region"
      ]
    },
    {
      "cell_type": "markdown",
      "metadata": {
        "id": "zvRvQVz3SLw6"
      },
      "source": [
        "### Pie Plot"
      ]
    },
    {
      "cell_type": "code",
      "execution_count": null,
      "metadata": {
        "id": "9B5YdOAYSLw7",
        "outputId": "4c936c20-a186-4637-fd6e-d5b896117fda"
      },
      "outputs": [
        {
          "data": {
            "image/png": "[encoded data removed]",
            "text/plain": [
              "<Figure size 360x432 with 1 Axes>"
            ]
          },
          "metadata": {},
          "output_type": "display_data"
        }
      ],
      "source": [
        "df_region['value'].plot(kind='pie',\n",
        "                            figsize=(5,6),\n",
        "                            autopct=\"%.2f%%\",\n",
        "                            startangle=90,\n",
        "                            shadow=True);"
      ]
    },
    {
      "cell_type": "code",
      "execution_count": null,
      "metadata": {
        "id": "8BE_cuG4SLw7",
        "outputId": "611ddddb-effb-4cdd-8199-47c0d69a3d1a"
      },
      "outputs": [
        {
          "data": {
            "text/plain": [
              "<matplotlib.axes._subplots.AxesSubplot at 0x2042610b0d0>"
            ]
          },
          "metadata": {},
          "output_type": "display_data"
        },
        {
          "data": {
            "image/png": "[encoded data removed]",
            "text/plain": [
              "<Figure size 1080x576 with 1 Axes>"
            ]
          },
          "metadata": {},
          "output_type": "display_data"
        }
      ],
      "source": [
        "kondisi3 = Hillingdon['value'] != 0\n",
        "kondisi4 = Hillingdon['year'] == 2011\n",
        "Hillingdon[kondisi3 & kondisi4].plot(linewidth=1, figsize=(15,8))"
      ]
    },
    {
      "cell_type": "markdown",
      "metadata": {
        "id": "6oDqhbGeSLw8"
      },
      "source": [
        "### Scatter Plot"
      ]
    },
    {
      "cell_type": "code",
      "execution_count": null,
      "metadata": {
        "id": "DO_Ep0HASLw8",
        "outputId": "cdf411a2-68c9-49be-aff5-90d2c1cbc9b8"
      },
      "outputs": [
        {
          "data": {
            "image/png": "[encoded data removed]",
            "text/plain": [
              "<Figure size 432x288 with 1 Axes>"
            ]
          },
          "metadata": {
            "needs_background": "light"
          },
          "output_type": "display_data"
        }
      ],
      "source": [
        "df_region.plot(kind='scatter', x='value', y='year');"
      ]
    },
    {
      "cell_type": "markdown",
      "metadata": {
        "id": "fJtH1B0ySLw9"
      },
      "source": [
        "### Histogram"
      ]
    },
    {
      "cell_type": "code",
      "execution_count": null,
      "metadata": {
        "id": "iUsXe4cjSLw9",
        "outputId": "f5169f21-b87b-4b14-a552-9649527a7fc4"
      },
      "outputs": [
        {
          "data": {
            "text/plain": [
              "<matplotlib.axes._subplots.AxesSubplot at 0x204c31b6700>"
            ]
          },
          "execution_count": 78,
          "metadata": {},
          "output_type": "execute_result"
        },
        {
          "data": {
            "image/png": "[encoded data removed]",
            "text/plain": [
              "<Figure size 432x288 with 1 Axes>"
            ]
          },
          "metadata": {
            "needs_background": "light"
          },
          "output_type": "display_data"
        }
      ],
      "source": [
        "df_region.plot(kind = 'hist')"
      ]
    },
    {
      "cell_type": "markdown",
      "metadata": {
        "id": "-4q-7W_cSLw-"
      },
      "source": [
        "### Data wilayah westminster"
      ]
    },
    {
      "cell_type": "code",
      "execution_count": null,
      "metadata": {
        "id": "j8JmFgEWSLw-"
      },
      "outputs": [],
      "source": [
        "df_w = df_lon.loc['Westminster']"
      ]
    },
    {
      "cell_type": "code",
      "execution_count": null,
      "metadata": {
        "id": "d5tx98WRSLw_",
        "outputId": "21eacf4f-174f-49a6-b8c5-0eb6828f6248"
      },
      "outputs": [
        {
          "data": {
            "text/plain": [
              "<matplotlib.axes._subplots.AxesSubplot at 0x2041fbead90>"
            ]
          },
          "execution_count": 68,
          "metadata": {},
          "output_type": "execute_result"
        },
        {
          "data": {
            "image/png": "[encoded data removed]",
            "text/plain": [
              "<Figure size 1080x576 with 1 Axes>"
            ]
          },
          "metadata": {
            "needs_background": "light"
          },
          "output_type": "display_data"
        }
      ],
      "source": [
        "df_w.plot(kind='area',\n",
        "             stacked=False,\n",
        "             figsize=(15, 8))"
      ]
    },
    {
      "cell_type": "code",
      "execution_count": null,
      "metadata": {
        "id": "gApuTwGwSLxp",
        "outputId": "dbfa5524-0910-49f7-db6e-97858e547fd8"
      },
      "outputs": [
        {
          "data": {
            "image/png": "[encoded data removed]",
            "text/plain": [
              "<Figure size 432x288 with 1 Axes>"
            ]
          },
          "metadata": {
            "needs_background": "light"
          },
          "output_type": "display_data"
        }
      ],
      "source": [
        "df_w.plot(kind='scatter', x='value', y='year');"
      ]
    },
    {
      "cell_type": "code",
      "execution_count": null,
      "metadata": {
        "id": "mft9gdiSSLyM"
      },
      "outputs": [],
      "source": []
    }
  ],
  "metadata": {
    "kernelspec": {
      "display_name": "Python 3.8.5 ('base')",
      "language": "python",
      "name": "python3"
    },
    "language_info": {
      "codemirror_mode": {
        "name": "ipython",
        "version": 3
      },
      "file_extension": ".py",
      "mimetype": "text/x-python",
      "name": "python",
      "nbconvert_exporter": "python",
      "pygments_lexer": "ipython3",
      "version": "3.8.5"
    },
    "orig_nbformat": 4,
    "vscode": {
      "interpreter": {
        "hash": "dc07d24e2f18896857f0b2a651fe84ba40ce7b297e58d8804a308c8039f752a6"
      }
    },
    "colab": {
      "provenance": [],
      "include_colab_link": true
    }
  },
  "nbformat": 4,
  "nbformat_minor": 0
}